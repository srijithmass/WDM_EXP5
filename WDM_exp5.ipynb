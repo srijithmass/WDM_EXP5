{
  "cells": [
    {
      "cell_type": "code",
      "execution_count": 27,
      "metadata": {
        "id": "wu-1AusmRXzs"
      },
      "outputs": [],
      "source": [
        "#developed by : SRIJITH R\n",
        "#register no : 212221240054\n",
        "import numpy as np\n",
        "import pandas as pd\n",
        "\n",
        "class BooleanRetrieval:\n",
        "  def __init__(self):\n",
        "    self.index = {}\n",
        "    self.documents_matrix = None\n",
        "\n",
        "  def index_document(self, doc_id, text):\n",
        "    terms = text.lower().split()\n",
        "    print(\"Document-\", doc_id, terms)\n",
        "\n",
        "    for term in terms:\n",
        "        if term not in self.index:\n",
        "            self.index[term] = set()\n",
        "        self.index[term].add(doc_id)\n",
        "\n",
        "  def create_documents_matrix(self, documents):\n",
        "        terms = list(self.index.keys())\n",
        "        num_docs = len(documents)\n",
        "        num_terms = len(terms)\n",
        "\n",
        "        self.documents_matrix = np.zeros((num_docs, num_terms), dtype=int)\n",
        "\n",
        "        for i, (doc_id, text) in enumerate(documents.items()):\n",
        "            doc_terms = text.lower().split()\n",
        "            for term in doc_terms:\n",
        "                if term in self.index:\n",
        "                    term_id = terms.index(term)\n",
        "                    self.documents_matrix[i, term_id] = 1\n",
        "\n",
        "  def print_all_terms(self):\n",
        "    print(\"\\nAll terms in Documents:\")\n",
        "    terms_list = list(self.index.keys())\n",
        "    terms_list.sort()\n",
        "    print(terms_list)\n",
        "\n",
        "  def print_documents_matrix_table(self):\n",
        "    print(\"\\nTerm Documents Matrix :\")\n",
        "    df = pd.DataFrame(self.documents_matrix, columns=self.index.keys())\n",
        "    print(df)\n",
        "\n",
        "  def boolean_search(self, query):\n",
        "      query = query.lower()\n",
        "      query_terms = query.split()\n",
        "      results = None\n",
        "\n",
        "      for term in query_terms:\n",
        "        if term in self.index:\n",
        "          if results is None:\n",
        "            results = self.index[term]\n",
        "          else:\n",
        "            if query[0] == 'and':\n",
        "              results = results.intersection(self.index[term])\n",
        "            elif query[0] == 'or':\n",
        "              results = results.union(self.index[term])\n",
        "            elif query[0] == 'not':\n",
        "              results = results.difference(self.index[term])\n",
        "      return results if results else set()"
      ]
    },
    {
      "cell_type": "code",
      "execution_count": 26,
      "metadata": {
        "colab": {
          "base_uri": "https://localhost:8080/"
        },
        "id": "oYWmb4UYRr_B",
        "outputId": "e96ca0e0-092c-4a22-86f8-2dc6f5769497"
      },
      "outputs": [
        {
          "name": "stdout",
          "output_type": "stream",
          "text": [
            "Document- 1 ['python', 'is', 'a', 'programming', 'language']\n",
            "Document- 2 ['information', 'retrieval', 'deals', 'with', 'finding', 'information']\n",
            "Document- 3 ['boolean', 'models', 'are', 'used', 'in', 'information', 'retrieval']\n",
            "\n",
            "Term Documents Matrix :\n",
            "   python  is  a  programming  language  information  retrieval  deals  with  \\\n",
            "0       1   1  1            1         1            0          0      0     0   \n",
            "1       0   0  0            0         0            1          1      1     1   \n",
            "2       0   0  0            0         0            1          1      0     0   \n",
            "\n",
            "   finding  boolean  models  are  used  in  \n",
            "0        0        0       0    0     0   0  \n",
            "1        1        0       0    0     0   0  \n",
            "2        0        1       1    1     1   1  \n",
            "\n",
            "All terms in Documents:\n",
            "['a', 'are', 'boolean', 'deals', 'finding', 'in', 'information', 'is', 'language', 'models', 'programming', 'python', 'retrieval', 'used', 'with']\n",
            "\n",
            "Enter your boolean query: boolean\n",
            "\n",
            "Results for 'boolean': Document(s){3}\n"
          ]
        }
      ],
      "source": [
        "if __name__ == \"__main__\":\n",
        "    indexer = BooleanRetrieval()\n",
        "\n",
        "\n",
        "    documents = {\n",
        "        1: \"Python is a programming language\",\n",
        "        2: \"Information retrieval deals with finding information\",\n",
        "        3: \"Boolean models are used in information retrieval\"\n",
        "    }\n",
        "\n",
        "    for doc_id, text in documents.items():\n",
        "        indexer.index_document(doc_id, text)\n",
        "\n",
        "    indexer.create_documents_matrix(documents)\n",
        "    indexer.print_documents_matrix_table()\n",
        "\n",
        "    indexer.print_all_terms()\n",
        "\n",
        "\n",
        "    query1 = input(\"\\nEnter your boolean query: \")\n",
        "    results = indexer.boolean_search(query1)\n",
        "    if results:\n",
        "        print(f\"\\nResults for '{query1}': Document(s){results}\")\n",
        "    else:\n",
        "        print(\"No results found for the query.\")\n"
      ]
    }
  ],
  "metadata": {
    "colab": {
      "provenance": []
    },
    "kernelspec": {
      "display_name": "Python 3",
      "name": "python3"
    },
    "language_info": {
      "name": "python"
    }
  },
  "nbformat": 4,
  "nbformat_minor": 0
}
